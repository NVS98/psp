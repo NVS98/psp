{
 "cells": [
  {
   "cell_type": "markdown",
   "metadata": {},
   "source": [
    "### **Lo mas importante**\n",
    "\n",
    "* Matemáticasa\n",
    "* Programación\n",
    "* SQL\n",
    "* Python\n",
    "\n",
    "\n",
    "![imagen](./img/python.png)\n",
    "\n",
    "Para ser programador hay que tener **iniciativa**. Si tienes dudas, consulta la documentación. Hay una cantidad inmensa de información al respecto. Keep calm and go for it!\n",
    "\n",
    "En esta página se aprende mucho de python: [**page with python course**](https://www.python.org/)"
   ]
  },
  {
   "cell_type": "markdown",
   "metadata": {},
   "source": [
    "<table style=\"margin-left:auto; margin-right:auto\">\n",
    "    <tr><th>Ramp Up</th><th>Data AnalysisPython</th><th>Machine Learning</th><th>Data & Business</th></tr>\n",
    "    <tr><td>Python</td><td>EDA</td><td>Supervised</td><td>Productivización</td></tr>\n",
    "    <tr><td>Estadísticas</td><td>R</td><td>Non supervised</td><td>Storytelling</td></tr>\n",
    "    <tr><td>SQL</td><td>Feat. Eng</td><td>Deep Learning</td><td>API</td></tr>\n",
    "</table>\n",
    "\n",
    "<br><br>\n",
    "\n",
    "$$\n",
    "\\begin{aligned}\n",
    "\\sqrt{(3x-1)(1+x)^{2}}\\\\\n",
    "\\end{aligned}\n",
    "$$"
   ]
  }
 ],
 "metadata": {
  "language_info": {
   "name": "python"
  },
  "orig_nbformat": 4
 },
 "nbformat": 4,
 "nbformat_minor": 2
}
